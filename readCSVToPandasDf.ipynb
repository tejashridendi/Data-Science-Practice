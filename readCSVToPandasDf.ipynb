{
  "nbformat": 4,
  "nbformat_minor": 0,
  "metadata": {
    "colab": {
      "provenance": [],
      "authorship_tag": "ABX9TyMJvF5GwefZEvv+ZTfFbe8e"
    },
    "kernelspec": {
      "name": "python3",
      "display_name": "Python 3"
    },
    "language_info": {
      "name": "python"
    }
  },
  "cells": [
    {
      "cell_type": "code",
      "execution_count": null,
      "metadata": {
        "colab": {
          "base_uri": "https://localhost:8080/"
        },
        "id": "SzzFhf_WQs5M",
        "outputId": "ae1f90f0-20a6-476d-d4ba-be8f21fbc324"
      },
      "outputs": [
        {
          "output_type": "stream",
          "name": "stdout",
          "text": [
            "            id  label\n",
            "0            0    113\n",
            "1            1     37\n",
            "2            2     68\n",
            "3            3     90\n",
            "4            4     83\n",
            "...        ...    ...\n",
            "169651  169651     16\n",
            "169652  169652     94\n",
            "169653  169653     98\n",
            "169654  169654     58\n",
            "169655  169655     14\n",
            "\n",
            "[169656 rows x 2 columns]\n"
          ]
        }
      ],
      "source": [
        "import pandas\n",
        "df = pandas.read_csv('/SampleSubmissionOfPhenomeRecognition.csv')\n",
        "print(df)\n",
        "#/SampleSubmissionOfPhenomeRecognition.csv"
      ]
    },
    {
      "cell_type": "code",
      "source": [],
      "metadata": {
        "id": "pM6sHZAlT92_"
      },
      "execution_count": null,
      "outputs": []
    }
  ]
}