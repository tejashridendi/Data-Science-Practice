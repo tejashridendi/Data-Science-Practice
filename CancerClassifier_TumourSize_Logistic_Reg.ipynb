{
  "nbformat": 4,
  "nbformat_minor": 0,
  "metadata": {
    "colab": {
      "provenance": []
    },
    "kernelspec": {
      "name": "python3",
      "display_name": "Python 3"
    },
    "language_info": {
      "name": "python"
    }
  },
  "cells": [
    {
      "cell_type": "code",
      "execution_count": null,
      "metadata": {
        "id": "lnAWuRSCLMkt"
      },
      "outputs": [],
      "source": []
    },
    {
      "cell_type": "markdown",
      "source": [
        "# Logistic regression - whether a tumor is cancerous based on the tumor size"
      ],
      "metadata": {
        "id": "iusp0hkpMUFF"
      }
    },
    {
      "cell_type": "markdown",
      "source": [
        "Logistic regression aims to solve classification problems.\n",
        "\n",
        "It does this by predicting categorical outcomes."
      ],
      "metadata": {
        "id": "-8-qtZ6sOKj0"
      }
    },
    {
      "cell_type": "code",
      "source": [
        "import numpy\n",
        "from sklearn import linear_model\n",
        "\n",
        "#X represents the size of a tumor in centimeters.\n",
        "X = numpy.array([3.78, 2.44, 2.09, 0.14, 1.72, 1.65, 4.92, 4.37, 4.96, 4.52, 3.69, 5.88]).reshape(-1,1)\n",
        "\n",
        "#Note: X has to be reshaped into a column from a row for the LogisticRegression() function to work.\n",
        "#y represents whether or not the tumor is cancerous (0 for \"No\", 1 for \"Yes\").\n",
        "y = numpy.array([0, 0, 0, 0, 0, 0, 1, 1, 1, 1, 1, 1])\n",
        "\n",
        "logr = linear_model.LogisticRegression()\n",
        "logr.fit(X,y)\n",
        "\n",
        "\n",
        "#predict if tumor is cancerous where the size is 3.46mm:\n",
        "predictedtumour = logr.predict(numpy.array([3.46]).reshape(-1,1))\n",
        "print(\"Predict if tumor is cancerous where the size is 3.46mm:\",predictedtumour)\n",
        "predicted = logr.predict(X.reshape(-1,1))\n",
        "\n",
        "#Coefficient\n",
        "\"\"\"\n",
        "In logistic regression the coefficient is the expected change in log-odds of having the outcome per unit change in X.\n",
        "\"\"\"\n",
        "log_odds = logr.coef_\n",
        "odds = numpy.exp(log_odds)\n",
        "print(\"Odds:\",odds)\n",
        "\n",
        "#find out the probability that each tumor is cancerous.\n",
        "def logit2prob(logr, X):\n",
        "  log_odds = logr.coef_ * X + logr.intercept_\n",
        "  odds = numpy.exp(log_odds)\n",
        "  probability = odds / (1 + odds)\n",
        "  return(probability)\n",
        "\n",
        "print(\"probability that each tumor is cancerous:\",logit2prob(logr, X)) #find out the probability that each tumor is cancerous.\n",
        "import matplotlib.pyplot as plt\n",
        "import numpy\n",
        "from sklearn import metrics\n",
        "\n",
        "#actual = numpy.random.binomial(1,.9,size = 1000)\n",
        "#predicted = numpy.random.binomial(1,.9,size = 1000)\n",
        "\n",
        "confusion_matrix = metrics.confusion_matrix(y, predicted)\n",
        "\n",
        "cm_display = metrics.ConfusionMatrixDisplay(confusion_matrix = confusion_matrix, display_labels = [False, True])\n",
        "\n",
        "cm_display.plot()\n",
        "plt.show()"
      ],
      "metadata": {
        "colab": {
          "base_uri": "https://localhost:8080/",
          "height": 705
        },
        "id": "3gb6LOs_Mhe_",
        "outputId": "93ef8599-3328-425f-a939-65582a75acd6"
      },
      "execution_count": 34,
      "outputs": [
        {
          "output_type": "stream",
          "name": "stdout",
          "text": [
            "Predict if tumor is cancerous where the size is 3.46mm: [0]\n",
            "Odds: [[4.03541657]]\n",
            "probability that each tumor is cancerous: [[0.60749955]\n",
            " [0.19268876]\n",
            " [0.12775886]\n",
            " [0.00955221]\n",
            " [0.08038616]\n",
            " [0.07345637]\n",
            " [0.88362743]\n",
            " [0.77901378]\n",
            " [0.88924409]\n",
            " [0.81293497]\n",
            " [0.57719129]\n",
            " [0.96664243]]\n"
          ]
        },
        {
          "output_type": "display_data",
          "data": {
            "text/plain": [
              "<Figure size 640x480 with 2 Axes>"
            ],
            "image/png": "[encoded data removed]"
          },
          "metadata": {}
        }
      ]
    },
    {
      "cell_type": "code",
      "source": [
        "print(\"The probability that a tumor with the size 3.78cm is cancerous is: {}%\".format(numpy.round( logit2prob(logr, 3.78)*100) ))\n",
        "\n",
        "print(\"The probability that a tumor with the size 2.44cm is cancerous is: {}%\".format(numpy.round( logit2prob(logr, 2.44)*100)))\n",
        "\n",
        "print(\"The probability that a tumor with the size 2.09cm is cancerous is: {}% \".format(numpy.round(logit2prob(logr, 2.09)*100)))"
      ],
      "metadata": {
        "colab": {
          "base_uri": "https://localhost:8080/"
        },
        "id": "KBJwOKpVPHc7",
        "outputId": "a3cb362f-2433-4457-ab46-0a4857342322"
      },
      "execution_count": 29,
      "outputs": [
        {
          "output_type": "stream",
          "name": "stdout",
          "text": [
            "The probability that a tumor with the size 3.78cm is cancerous is: [[61.]]%\n",
            "The probability that a tumor with the size 2.44cm is cancerous is: [[19.]]%\n",
            "The probability that a tumor with the size 2.09cm is cancerous is: [[13.]]% \n"
          ]
        }
      ]
    },
    {
      "cell_type": "markdown",
      "source": [
        "# Results:\n",
        "\n",
        " The probability that a tumor with the size 3.78cm is cancerous is 61%.\n",
        "\n",
        " The probability that a tumor with the size 2.44cm is cancerous is 19%.\n",
        "\n",
        "The probability that a tumor with the size 2.09cm is cancerous is 13%."
      ],
      "metadata": {
        "id": "EMWfR3deOZhV"
      }
    },
    {
      "cell_type": "code",
      "source": [
        "import matplotlib.pyplot as plt\n",
        "import numpy\n",
        "from sklearn import metrics\n",
        "\n",
        "#actual = numpy.random.binomial(1,.9,size = 1000)\n",
        "#predicted = numpy.random.binomial(1,.9,size = 1000)\n",
        "\n",
        "confusion_matrix = metrics.confusion_matrix(y, predicted)\n",
        "\n",
        "cm_display = metrics.ConfusionMatrixDisplay(confusion_matrix = confusion_matrix, display_labels = [False, True])\n",
        "\n",
        "cm_display.plot()\n",
        "plt.show()"
      ],
      "metadata": {
        "colab": {
          "base_uri": "https://localhost:8080/",
          "height": 455
        },
        "id": "l1HmA7KrX4DK",
        "outputId": "18bd9457-b822-45f1-e56a-0611bee22067"
      },
      "execution_count": 35,
      "outputs": [
        {
          "output_type": "display_data",
          "data": {
            "text/plain": [
              "<Figure size 640x480 with 2 Axes>"
            ],
            "image/png": "[encoded data removed]"
          },
          "metadata": {}
        }
      ]
    },
    {
      "cell_type": "code",
      "source": [
        "actual=y"
      ],
      "metadata": {
        "id": "I5HxBpQIZo6h"
      },
      "execution_count": 36,
      "outputs": []
    },
    {
      "cell_type": "markdown",
      "source": [
        "# The matrix provides us with many useful metrics that help us to evaluate out classification model.\n",
        "\n",
        "The different measures include:\n",
        "\n",
        " Accuracy, Precision, Sensitivity (Recall), Specificity, and the F1-score"
      ],
      "metadata": {
        "id": "6EjhxUhzg1gS"
      }
    },
    {
      "cell_type": "markdown",
      "source": [
        "# Accuracy\n"
      ],
      "metadata": {
        "id": "XCMup6euZDlr"
      }
    },
    {
      "cell_type": "markdown",
      "source": [
        "Accuracy measures how often the model is correct."
      ],
      "metadata": {
        "id": "hNg7WzgKhqi3"
      }
    },
    {
      "cell_type": "code",
      "source": [
        "Accuracy = metrics.accuracy_score(actual, predicted)\n",
        "Accuracy=numpy.round(Accuracy*100)\n",
        "print(Accuracy)"
      ],
      "metadata": {
        "colab": {
          "base_uri": "https://localhost:8080/"
        },
        "id": "XzNn1nVqZCoS",
        "outputId": "2ce4c9a6-e9db-458e-bcd5-a5a1b424b6e1"
      },
      "execution_count": 59,
      "outputs": [
        {
          "output_type": "stream",
          "name": "stdout",
          "text": [
            "92.0\n"
          ]
        }
      ]
    },
    {
      "cell_type": "markdown",
      "source": [
        "# Precision"
      ],
      "metadata": {
        "id": "WjGvC2fHZ6Ci"
      }
    },
    {
      "cell_type": "markdown",
      "source": [
        "Of the positives predicted, what percentage is truly positive?"
      ],
      "metadata": {
        "id": "oMEoBCGZhur4"
      }
    },
    {
      "cell_type": "code",
      "source": [
        "Precision = metrics.precision_score(actual, predicted)\n",
        "Precision=numpy.round(Precision*100)\n",
        "print(Precision)"
      ],
      "metadata": {
        "colab": {
          "base_uri": "https://localhost:8080/"
        },
        "id": "C7JcxTELaDDa",
        "outputId": "5e574016-3486-440d-a532-2e4a9d7c1060"
      },
      "execution_count": 58,
      "outputs": [
        {
          "output_type": "stream",
          "name": "stdout",
          "text": [
            "86.0\n"
          ]
        }
      ]
    },
    {
      "cell_type": "markdown",
      "source": [
        "Precision does not evaluate the correctly predicted negative cases"
      ],
      "metadata": {
        "id": "Vq0yxncaiLPA"
      }
    },
    {
      "cell_type": "markdown",
      "source": [
        "# Sensitivity/Recall"
      ],
      "metadata": {
        "id": "CveQ6NE6aPYL"
      }
    },
    {
      "cell_type": "markdown",
      "source": [
        "Sensitivity (sometimes called Recall) measures how good the model is at predicting positives."
      ],
      "metadata": {
        "id": "xZWMUlvUiBlJ"
      }
    },
    {
      "cell_type": "code",
      "source": [
        "Sensitivity_recall = metrics.recall_score(actual, predicted)\n",
        "Sensitivity_recall=numpy.round(Precision*100)\n",
        "print(Sensitivity_recall)"
      ],
      "metadata": {
        "colab": {
          "base_uri": "https://localhost:8080/"
        },
        "id": "p3fnZgLOaWPv",
        "outputId": "780a215c-6f7e-4061-9de3-791344b7cc7e"
      },
      "execution_count": 57,
      "outputs": [
        {
          "output_type": "stream",
          "name": "stdout",
          "text": [
            "86.0\n"
          ]
        }
      ]
    },
    {
      "cell_type": "markdown",
      "source": [
        "# Specificity"
      ],
      "metadata": {
        "id": "lYguT5-_bOmH"
      }
    },
    {
      "cell_type": "markdown",
      "source": [
        "Specificity is similar to sensitivity, but looks at it from the persepctive of negative results."
      ],
      "metadata": {
        "id": "GoL_h53Lil4x"
      }
    },
    {
      "cell_type": "code",
      "source": [
        "Specificity = metrics.recall_score(actual, predicted, pos_label=0)\n",
        "Specificity=numpy.round(Specificity*100)\n",
        "print(Specificity)"
      ],
      "metadata": {
        "colab": {
          "base_uri": "https://localhost:8080/"
        },
        "id": "DbO1Cl6yadiT",
        "outputId": "4c6a54fe-ec09-47a6-f1e3-e4f650eebb31"
      },
      "execution_count": 55,
      "outputs": [
        {
          "output_type": "stream",
          "name": "stdout",
          "text": [
            "83.0\n"
          ]
        }
      ]
    },
    {
      "cell_type": "markdown",
      "source": [
        "# F1_score"
      ],
      "metadata": {
        "id": "zHOPMr67bYj-"
      }
    },
    {
      "cell_type": "markdown",
      "source": [
        "considers both false positive and false negative cases and is good for imbalanced datasets."
      ],
      "metadata": {
        "id": "0FRXUvvUiy_B"
      }
    },
    {
      "cell_type": "code",
      "source": [
        "F1_score = metrics.f1_score(actual, predicted)\n",
        "F1_score=numpy.round(F1_score*100)\n",
        "print(F1_score)"
      ],
      "metadata": {
        "colab": {
          "base_uri": "https://localhost:8080/"
        },
        "id": "RzWemrtWau6Z",
        "outputId": "d92fc4b2-ac37-4539-d6bc-9e3f8f3bfcad"
      },
      "execution_count": 56,
      "outputs": [
        {
          "output_type": "stream",
          "name": "stdout",
          "text": [
            "92.0\n"
          ]
        }
      ]
    },
    {
      "cell_type": "markdown",
      "source": [
        "# Metrics"
      ],
      "metadata": {
        "id": "0JKXOZ4rbBGJ"
      }
    },
    {
      "cell_type": "code",
      "source": [
        "#metrics\n",
        "print({\"Accuracy\":Accuracy,\"Precision\":Precision,\"Sensitivity_recall\":Sensitivity_recall,\"Specificity\":Specificity,\"F1_score\":F1_score})"
      ],
      "metadata": {
        "colab": {
          "base_uri": "https://localhost:8080/"
        },
        "id": "Gp9-yFHvamCU",
        "outputId": "27c1f5c3-3ad4-4d4f-da74-0f9619382a51"
      },
      "execution_count": 60,
      "outputs": [
        {
          "output_type": "stream",
          "name": "stdout",
          "text": [
            "{'Accuracy': 92.0, 'Precision': 86.0, 'Sensitivity_recall': 86.0, 'Specificity': 83.0, 'F1_score': 92.0}\n"
          ]
        }
      ]
    }
  ]
}